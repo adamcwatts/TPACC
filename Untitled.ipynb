{
 "cells": [
  {
   "cell_type": "code",
   "execution_count": 3,
   "metadata": {},
   "outputs": [],
   "source": [
    "import numpy as np\n",
    "import pandas as pd\n",
    "import matplotlib.pyplot as plt\n",
    "import math\n",
    "import scipy\n",
    "from glob import glob\n",
    "import os "
   ]
  },
  {
   "cell_type": "markdown",
   "metadata": {},
   "source": [
    "#### Import CSV files of fabric swatches from heated hot plate machine"
   ]
  },
  {
   "cell_type": "code",
   "execution_count": 18,
   "metadata": {},
   "outputs": [],
   "source": [
    "D200_swatches = glob('D200*')\n",
    "D_thermal_swatches =glob('DT*')\n",
    "PVC_swatches = glob('PVC*')"
   ]
  },
  {
   "cell_type": "code",
   "execution_count": 64,
   "metadata": {},
   "outputs": [
    {
     "data": {
      "text/plain": [
       "[962.8, 991.1, 888.7, 1043.2, 1053.6]"
      ]
     },
     "execution_count": 64,
     "metadata": {},
     "output_type": "execute_result"
    }
   ],
   "source": [
    "D200_max_flux = []\n",
    "\n",
    "for rep in D200_swatches:\n",
    "    df = pd.read_csv(rep, header=13)  # data starts at line 13\n",
    "    reduced_df = df.loc[1:,['Time' ,'Heat Flux Measured']] # further reduce dataframe to include only the columns of interest \n",
    "    reduced_df = reduced_df.astype({'Heat Flux Measured': 'float64'})  # cast data from object ot float64\n",
    "    D200_max_flux.append(reduced_df['Heat Flux Measured'].max())\n",
    "\n"
   ]
  },
  {
   "cell_type": "markdown",
   "metadata": {},
   "source": [
    "D200_max_flux"
   ]
  }
 ],
 "metadata": {
  "kernelspec": {
   "display_name": "Python 3",
   "language": "python",
   "name": "python3"
  },
  "language_info": {
   "codemirror_mode": {
    "name": "ipython",
    "version": 3
   },
   "file_extension": ".py",
   "mimetype": "text/x-python",
   "name": "python",
   "nbconvert_exporter": "python",
   "pygments_lexer": "ipython3",
   "version": "3.7.3"
  }
 },
 "nbformat": 4,
 "nbformat_minor": 2
}
